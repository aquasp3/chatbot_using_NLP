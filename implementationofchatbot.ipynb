{
 "cells": [
  {
   "cell_type": "code",
   "execution_count": null,
   "id": "4ba599e0-efea-4727-a67e-7c05257de051",
   "metadata": {},
   "outputs": [],
   "source": []
  },
  {
   "cell_type": "code",
   "execution_count": 10,
   "id": "811d8e64-5933-4a93-b1da-a2c8aba6c1dc",
   "metadata": {},
   "outputs": [],
   "source": [
    "import nltk\n",
    "import random\n",
    "import os\n",
    "import ssl\n",
    "import streamlit as st\n",
    "from sklearn.feature_extraction.text import TfidfVectorizer\n",
    "from sklearn.linear_model import LogisticRegression"
   ]
  },
  {
   "cell_type": "code",
   "execution_count": 12,
   "id": "cda3651d-8fbf-4e9a-8696-be52ecd24edd",
   "metadata": {},
   "outputs": [
    {
     "name": "stderr",
     "output_type": "stream",
     "text": [
      "[nltk_data] Downloading package punkt to\n",
      "[nltk_data]     C:\\Users\\sathv\\AppData\\Roaming\\nltk_data...\n",
      "[nltk_data]   Unzipping tokenizers\\punkt.zip.\n"
     ]
    },
    {
     "data": {
      "text/plain": [
       "True"
      ]
     },
     "execution_count": 12,
     "metadata": {},
     "output_type": "execute_result"
    }
   ],
   "source": [
    "ssl._create_default_https_context=ssl._create_unverified_context\n",
    "nltk.data.path.append(os.path.abspath('nltk_data'))\n",
    "nltk.download('punkt')"
   ]
  },
  {
   "cell_type": "code",
   "execution_count": 20,
   "id": "1b75bc0b-b525-4564-9bbd-fb8f798b5984",
   "metadata": {},
   "outputs": [],
   "source": [
    "intents=[\n",
    "    {\n",
    "        'tag':'greeting',\n",
    "        'patterns':['hi','hello','hey','ehats up','how are you'],\n",
    "        'responses':['hi','hello','hey','nothing much','im fine','thank you']\n",
    "    },\n",
    "    {\n",
    "        'tag':'goodbye',\n",
    "        'patterns':['bye','see you later','goodbye','take care'],\n",
    "        'responses':['goodbye','see you later','take care']\n",
    "    },\n",
    "    {\n",
    "        'tag':'thanks',\n",
    "        'patterns':['thank you','thanks','thanks a lot','i appreciate it'],\n",
    "        'responses':['youre welcome','no problem','glad i could help']\n",
    "    },\n",
    "    {\n",
    "        'tag':'about',\n",
    "        'patterns':['what can you do','who are you','what are you','what is your purpose'],\n",
    "        'responses':['i am a chatbot','my purpose is to assist you','i can answer questions']\n",
    "    },\n",
    "    {\n",
    "        'tag':'help',\n",
    "        'patterns':['help','i need help','can you help me','what should i do'],\n",
    "        'responses':['sure,what do you need help with?','i am here to help.whats the problem?']\n",
    "    },\n",
    "    {\n",
    "        'tag':'age',\n",
    "        'patterns':['how old are you','whats your age'],\n",
    "        'responses':['i dont have an age.i am a chatbot','i was born in the digital world']\n",
    "    },\n",
    "    {\n",
    "        'tag':'weather',\n",
    "        'patterns':['whats the weather like','hows the weather today'],\n",
    "        'responses':['i am sorry i cannot provide real time weather information','you can check']\n",
    "    },\n",
    "    {\n",
    "        'tag':'budget',\n",
    "        'patterns':['how can i make budget ','whats a good budgeting stratergy'],\n",
    "        'responses':['to make a budget,start by tracking your income and expenses']\n",
    "    },\n",
    "    {\n",
    "        'tag':'credit_score',\n",
    "        'patterns':['what is a credit score','how do i check my credit score'],\n",
    "        'responses':['a credit score is a number that represents your creditworthiness']\n",
    "    }\n",
    "]"
   ]
  },
  {
   "cell_type": "code",
   "execution_count": null,
   "id": "9889cb61-a373-4fa8-b53e-d56d6ac583f6",
   "metadata": {},
   "outputs": [],
   "source": []
  }
 ],
 "metadata": {
  "kernelspec": {
   "display_name": "Python 3 (ipykernel)",
   "language": "python",
   "name": "python3"
  },
  "language_info": {
   "codemirror_mode": {
    "name": "ipython",
    "version": 3
   },
   "file_extension": ".py",
   "mimetype": "text/x-python",
   "name": "python",
   "nbconvert_exporter": "python",
   "pygments_lexer": "ipython3",
   "version": "3.12.7"
  }
 },
 "nbformat": 4,
 "nbformat_minor": 5
}
